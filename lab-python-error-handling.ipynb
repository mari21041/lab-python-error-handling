{
 "cells": [
  {
   "cell_type": "markdown",
   "id": "25d7736c-ba17-4aff-b6bb-66eba20fbf4e",
   "metadata": {},
   "source": [
    "# Lab | Error Handling"
   ]
  },
  {
   "cell_type": "markdown",
   "id": "bc99b386-7508-47a0-bcdb-d969deaf6c8b",
   "metadata": {},
   "source": [
    "## Exercise: Error Handling for Managing Customer Orders\n",
    "\n",
    "The implementation of your code for managing customer orders assumes that the user will always enter a valid input. \n",
    "\n",
    "For example, we could modify the `initialize_inventory` function to include error handling.\n",
    "   - If the user enters an invalid quantity (e.g., a negative value or a non-numeric value), display an error message and ask them to re-enter the quantity for that product.\n",
    "   - Use a try-except block to handle the error and continue prompting the user until a valid quantity is entered.\n",
    "\n",
    "```python\n",
    "# Step 1: Define the function for initializing the inventory with error handling\n",
    "def initialize_inventory(products):\n",
    "    inventory = {}\n",
    "    for product in products:\n",
    "        valid_quantity = False\n",
    "        while not valid_quantity:\n",
    "            try:\n",
    "                quantity = int(input(f\"Enter the quantity of {product}s available: \"))\n",
    "                if quantity < 0:\n",
    "                    raise ValueError(\"Invalid quantity! Please enter a non-negative value.\")\n",
    "                valid_quantity = True\n",
    "            except ValueError as error:\n",
    "                print(f\"Error: {error}\")\n",
    "        inventory[product] = quantity\n",
    "    return inventory\n",
    "\n",
    "# Or, in another way:\n",
    "\n",
    "def initialize_inventory(products):\n",
    "    inventory = {}\n",
    "    for product in products:\n",
    "        valid_input = False\n",
    "        while not valid_input:\n",
    "            try:\n",
    "                quantity = int(input(f\"Enter the quantity of {product}s available: \"))\n",
    "                if quantity >= 0:\n",
    "                    inventory[product] = quantity\n",
    "                    valid_input = True\n",
    "                else:\n",
    "                    print(\"Quantity cannot be negative. Please enter a valid quantity.\")\n",
    "            except ValueError:\n",
    "                print(\"Invalid input. Please enter a valid quantity.\")\n",
    "    return inventory\n",
    "```\n",
    "\n",
    "Let's enhance your code by implementing error handling to handle invalid inputs.\n",
    "\n",
    "Follow the steps below to complete the exercise:\n",
    "\n",
    "2. Modify the `calculate_total_price` function to include error handling.\n",
    "   - If the user enters an invalid price (e.g., a negative value or a non-numeric value), display an error message and ask them to re-enter the price for that product.\n",
    "   - Use a try-except block to handle the error and continue prompting the user until a valid price is entered.\n",
    "\n",
    "3. Modify the `get_customer_orders` function to include error handling.\n",
    "   - If the user enters an invalid number of orders (e.g., a negative value or a non-numeric value), display an error message and ask them to re-enter the number of orders.\n",
    "   - If the user enters an invalid product name (e.g., a product name that is not in the inventory), or that doesn't have stock available, display an error message and ask them to re-enter the product name. *Hint: you will need to pass inventory as a parameter*\n",
    "   - Use a try-except block to handle the error and continue prompting the user until a valid product name is entered.\n",
    "\n",
    "4. Test your code by running the program and deliberately entering invalid quantities and product names. Make sure the error handling mechanism works as expected.\n"
   ]
  },
  {
   "cell_type": "code",
   "execution_count": 12,
   "id": "476c27ba-f432-44ab-b9ba-51b0fadbd0c0",
   "metadata": {},
   "outputs": [],
   "source": [
    "products_list = [\"t-shirt\", \"mug\", \"hat\", \"book\", \"keychain\"]"
   ]
  },
  {
   "cell_type": "code",
   "execution_count": 13,
   "id": "2c18bf89-6eec-4c23-b985-dbb0960d9185",
   "metadata": {},
   "outputs": [
    {
     "name": "stdin",
     "output_type": "stream",
     "text": [
      "Enter the quantity of t-shirts available:  1\n",
      "Enter the quantity of mugs available:  1\n",
      "Enter the quantity of hats available:  2\n",
      "Enter the quantity of books available:  3\n",
      "Enter the quantity of keychains available:  4\n"
     ]
    },
    {
     "name": "stdout",
     "output_type": "stream",
     "text": [
      "{'t-shirt': 1, 'mug': 1, 'hat': 2, 'book': 3, 'keychain': 4}\n"
     ]
    }
   ],
   "source": [
    "def initialize_inventory(products):\n",
    "    inventory = {product: int(input(f\"Enter the quantity of {product}s available: \")) for product in products}\n",
    "    return inventory\n",
    "        \n",
    "\n",
    "inventory = initialize_inventory(products_list)\n",
    "print(inventory)        \n",
    "        "
   ]
  },
  {
   "cell_type": "code",
   "execution_count": 29,
   "id": "feb94e4c-089d-4445-8b90-fba3c5e2a2ef",
   "metadata": {},
   "outputs": [
    {
     "name": "stdin",
     "output_type": "stream",
     "text": [
      "enter product to order or type finish to finish book\n",
      "enter product to order or type finish to finish mug\n",
      "enter product to order or type finish to finish fridge\n"
     ]
    },
    {
     "name": "stdout",
     "output_type": "stream",
     "text": [
      "Sorry, we don´t have that item. Enter a valid product\n"
     ]
    },
    {
     "name": "stdin",
     "output_type": "stream",
     "text": [
      "enter product to order or type finish to finish finish\n"
     ]
    },
    {
     "name": "stdout",
     "output_type": "stream",
     "text": [
      "{'book', 'mug'}\n"
     ]
    }
   ],
   "source": [
    "def get_customer_orders():\n",
    "    customer_orders= set()\n",
    "    while True:\n",
    "        try:\n",
    "            order = input(\"enter product to order or type finish to finish\")\n",
    "        except:\n",
    "            print(\"Invalid product, please enter a new product!\")\n",
    "        if order == \"finish\":\n",
    "            break\n",
    "        elif order not in inventory:\n",
    "                 print(\"Sorry, we don´t have that item. Enter a valid product\")\n",
    "        else:\n",
    "            customer_orders.add(order)\n",
    "\n",
    "\n",
    "    return customer_orders\n",
    "        \n",
    "orders = get_customer_orders()  \n",
    "print(orders)"
   ]
  },
  {
   "cell_type": "code",
   "execution_count": 28,
   "id": "09e4d6c5-6a11-4a49-96bc-c50fa470263f",
   "metadata": {},
   "outputs": [
    {
     "name": "stdin",
     "output_type": "stream",
     "text": [
      "enter product to order or type finish to finish mug\n",
      "enter product to order or type finish to finish def\n"
     ]
    },
    {
     "name": "stdout",
     "output_type": "stream",
     "text": [
      "Sorry, we don´t have that item. Enter a valid product\n"
     ]
    },
    {
     "name": "stdin",
     "output_type": "stream",
     "text": [
      "enter product to order or type finish to finish book\n",
      "enter product to order or type finish to finish finish\n"
     ]
    },
    {
     "name": "stdout",
     "output_type": "stream",
     "text": [
      "{'book', 'mug'}\n"
     ]
    }
   ],
   "source": [
    "def get_customer_orders():\n",
    "    customer_orders= set()\n",
    "    finished = False\n",
    "    while not finished:\n",
    "        try:\n",
    "            order = input(\"enter product to order or type finish to finish\")\n",
    "        except:\n",
    "            print(\"Invalid product, please enter a new product!\")\n",
    "        if order == \"finish\":\n",
    "            finished = True\n",
    "        elif order not in inventory:\n",
    "                 print(\"Sorry, we don´t have that item. Enter a valid product\")\n",
    "        else:\n",
    "            customer_orders.add(order)\n",
    "\n",
    "\n",
    "    return customer_orders\n",
    "        \n",
    "orders = get_customer_orders()  \n",
    "print(orders)"
   ]
  },
  {
   "cell_type": "code",
   "execution_count": 15,
   "id": "37034927-972e-4a07-9c49-7b94777e1efa",
   "metadata": {},
   "outputs": [
    {
     "name": "stdout",
     "output_type": "stream",
     "text": [
      "{'t-shirt': 1, 'mug': 0, 'hat': 1, 'book': 2, 'keychain': 4}\n"
     ]
    }
   ],
   "source": [
    "customer_orders= {'mug', 'hat', 'book'} \n",
    "\n",
    "def update_inventory(customer_orders, inventory):\n",
    "    inventory = {product: (amount- 1 if product in customer_orders else amount  )for product, amount in inventory.items() }\n",
    "    return inventory\n",
    "\n",
    "updated_inventory=update_inventory(customer_orders, inventory)\n",
    "print(updated_inventory) "
   ]
  },
  {
   "cell_type": "code",
   "execution_count": 16,
   "id": "e9e8022c-3c5b-432e-a81e-285e22f7e756",
   "metadata": {},
   "outputs": [
    {
     "data": {
      "text/plain": [
       "(3, 60.0)"
      ]
     },
     "execution_count": 16,
     "metadata": {},
     "output_type": "execute_result"
    }
   ],
   "source": [
    "def calculate_order_statistics(customer_orders, products_list):\n",
    "    total_order = len(customer_orders)\n",
    "    percentage = (total_order/len(products_list))*100\n",
    "    return total_order, percentage\n",
    "\n",
    "calculate_order_statistics(customer_orders, products_list)\n",
    "    "
   ]
  },
  {
   "cell_type": "code",
   "execution_count": 17,
   "id": "911304c7-1443-479e-ae20-0d607ecf9154",
   "metadata": {},
   "outputs": [
    {
     "data": {
      "text/plain": [
       "(3, 60.0)"
      ]
     },
     "execution_count": 17,
     "metadata": {},
     "output_type": "execute_result"
    }
   ],
   "source": [
    "def print_order_statistics(order_statistics):\n",
    "    print(f\"Total order: {total_order}\")\n",
    "    print(f\"Percentage: {percentage_order:.2f}%\")\n",
    "\n",
    "order_statistics = calculate_order_statistics(customer_orders, products_list)\n",
    "order_statistics    \n"
   ]
  },
  {
   "cell_type": "code",
   "execution_count": null,
   "id": "6dba2bc4-7e96-41ee-a69b-ab870c2632e3",
   "metadata": {},
   "outputs": [],
   "source": [
    "def print_updated_inventory(updated_inventory):\n",
    "   final_inventory = {product:inventory[product] for product in products_list if product in updated_inventory}\n",
    "   return print(f\"the final inventory is {updated_inventory}\")\n",
    "                      \n",
    "print_updated_inventory(updated_inventory)"
   ]
  },
  {
   "cell_type": "code",
   "execution_count": 26,
   "id": "6f5a2545-4308-436e-875f-692755b9e2bf",
   "metadata": {},
   "outputs": [
    {
     "name": "stdin",
     "output_type": "stream",
     "text": [
      "enter the price of the product: hat 2.3\n",
      "enter the price of the product: book -1\n"
     ]
    },
    {
     "ename": "ValueError",
     "evalue": "Sorry, price should be greater that 0",
     "output_type": "error",
     "traceback": [
      "\u001b[1;31m---------------------------------------------------------------------------\u001b[0m",
      "\u001b[1;31mValueError\u001b[0m                                Traceback (most recent call last)",
      "Cell \u001b[1;32mIn[26], line 21\u001b[0m\n\u001b[0;32m     16\u001b[0m             \u001b[38;5;28;01mraise\u001b[39;00m \u001b[38;5;167;01mValueError\u001b[39;00m(\u001b[38;5;124m\"\u001b[39m\u001b[38;5;124mSorry, price should be greater that 0\u001b[39m\u001b[38;5;124m\"\u001b[39m)\n\u001b[0;32m     19\u001b[0m     \u001b[38;5;28;01mreturn\u001b[39;00m total_price\n\u001b[1;32m---> 21\u001b[0m check_out\u001b[38;5;241m=\u001b[39m\u001b[38;5;28msum\u001b[39m(total_price())\n\u001b[0;32m     22\u001b[0m \u001b[38;5;28mprint\u001b[39m(check_out)\n",
      "Cell \u001b[1;32mIn[26], line 16\u001b[0m, in \u001b[0;36mtotal_price\u001b[1;34m()\u001b[0m\n\u001b[0;32m     13\u001b[0m         \u001b[38;5;28mprint\u001b[39m(\u001b[38;5;124m\"\u001b[39m\u001b[38;5;124mError: please enter digits only \u001b[39m\u001b[38;5;124m\"\u001b[39m)\n\u001b[0;32m     15\u001b[0m     \u001b[38;5;28;01mif\u001b[39;00m item_price \u001b[38;5;241m<\u001b[39m\u001b[38;5;241m0\u001b[39m:\n\u001b[1;32m---> 16\u001b[0m         \u001b[38;5;28;01mraise\u001b[39;00m \u001b[38;5;167;01mValueError\u001b[39;00m(\u001b[38;5;124m\"\u001b[39m\u001b[38;5;124mSorry, price should be greater that 0\u001b[39m\u001b[38;5;124m\"\u001b[39m)\n\u001b[0;32m     19\u001b[0m \u001b[38;5;28;01mreturn\u001b[39;00m total_price\n",
      "\u001b[1;31mValueError\u001b[0m: Sorry, price should be greater that 0"
     ]
    }
   ],
   "source": [
    "# Modify the calculate_total_price function to include error handling.\n",
    "# If the user enters an invalid price (e.g., a negative value or a non-numeric value), \n",
    "# display an error message and ask them to re-enter the price for that product.\n",
    "# Use a try-except block to handle the error and continue prompting the user until a valid price is entered.\n",
    "\n",
    "def total_price():\n",
    "    total_price=[]\n",
    "    for item in customer_orders:\n",
    "        try:\n",
    "            item_price = float(input(f\"enter the price of the product: {item}\"))\n",
    "            total_price.append(item_price) \n",
    "        except TypeError:\n",
    "            print(\"Error: please enter digits only \")\n",
    "            \t\n",
    "        if item_price <0:\n",
    "            raise ValueError(\"Sorry, price should be greater that 0\")\n",
    "                    \n",
    "\n",
    "    return total_price\n",
    "\n",
    "check_out=sum(total_price())\n",
    "print(check_out)"
   ]
  },
  {
   "cell_type": "code",
   "execution_count": null,
   "id": "6f09c65c-421b-4975-95cb-23de22712008",
   "metadata": {},
   "outputs": [],
   "source": [
    "def total_price():\n",
    "    total_price = sum([float(input(f\"enter the price of the product: {item}\")) for item in customer_orders])\n",
    "    return total_price\n",
    "\n",
    "check_out=total_price()\n",
    "print(check_out)"
   ]
  },
  {
   "cell_type": "code",
   "execution_count": null,
   "id": "2044927e-022b-4cde-934e-1b075715a54c",
   "metadata": {},
   "outputs": [],
   "source": [
    "customer_orders= {'mug', 'hat', 'book'} \n",
    "\n",
    "def update_inventory(customer_orders, inventory):\n",
    "    inventory = {product: (amount- 1 if product in customer_orders else amount)for product, amount in inventory.items() }\n",
    "    inventory = {product: amount for product, amount in inventory.items() if amount > 0}\n",
    "    return inventory\n",
    " \n",
    "\n",
    "updated_inventory=update_inventory(customer_orders, inventory)\n",
    "print(updated_inventory)"
   ]
  },
  {
   "cell_type": "code",
   "execution_count": null,
   "id": "708b7b43-ec7a-4a2c-828a-807b4d044d1e",
   "metadata": {},
   "outputs": [],
   "source": []
  }
 ],
 "metadata": {
  "kernelspec": {
   "display_name": "Python 3 (ipykernel)",
   "language": "python",
   "name": "python3"
  },
  "language_info": {
   "codemirror_mode": {
    "name": "ipython",
    "version": 3
   },
   "file_extension": ".py",
   "mimetype": "text/x-python",
   "name": "python",
   "nbconvert_exporter": "python",
   "pygments_lexer": "ipython3",
   "version": "3.12.7"
  }
 },
 "nbformat": 4,
 "nbformat_minor": 5
}
